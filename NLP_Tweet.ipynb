{
  "nbformat": 4,
  "nbformat_minor": 0,
  "metadata": {
    "colab": {
      "name": "NLP Tweet.ipynb",
      "provenance": []
    },
    "kernelspec": {
      "name": "python3",
      "display_name": "Python 3"
    },
    "language_info": {
      "name": "python"
    },
    "accelerator": "GPU"
  },
  "cells": [
    {
      "cell_type": "code",
      "execution_count": 2,
      "metadata": {
        "id": "eWphbyKT4QyM"
      },
      "outputs": [],
      "source": [
        "import numpy as np # linear algebra\n",
        "import pandas as pd # data processing, CSV file I/O (e.g. pd.read_csv)\n",
        "\n",
        "import matplotlib.pyplot as plt\n",
        "from sklearn.model_selection import train_test_split\n",
        "\n",
        "from keras_preprocessing.text import Tokenizer\n",
        "from keras_preprocessing.sequence import pad_sequences\n",
        "from keras.models import Sequential\n",
        "from keras.layers import Dense, Dropout, LSTM, GRU, SimpleRNN, Embedding, Flatten"
      ]
    },
    {
      "cell_type": "code",
      "source": [
        "import os\n",
        "os.environ['KAGGLE_CONFIG_DIR'] = '/content'"
      ],
      "metadata": {
        "id": "AKkF7T7v4a9A"
      },
      "execution_count": 7,
      "outputs": []
    },
    {
      "cell_type": "code",
      "source": [
        "!kaggle competitions download -c nlp-getting-started"
      ],
      "metadata": {
        "colab": {
          "base_uri": "https://localhost:8080/"
        },
        "id": "qytEsv53ewJS",
        "outputId": "71bd7d32-0a76-42ce-d474-bd3cb9b42a0d"
      },
      "execution_count": 8,
      "outputs": [
        {
          "output_type": "stream",
          "name": "stdout",
          "text": [
            "Warning: Your Kaggle API key is readable by other users on this system! To fix this, you can run 'chmod 600 /content/kaggle.json'\n",
            "Warning: Looks like you're using an outdated API Version, please consider updating (server 1.5.12 / client 1.5.4)\n",
            "Downloading train.csv to /content\n",
            "  0% 0.00/965k [00:00<?, ?B/s]\n",
            "100% 965k/965k [00:00<00:00, 66.6MB/s]\n",
            "Downloading sample_submission.csv to /content\n",
            "  0% 0.00/22.2k [00:00<?, ?B/s]\n",
            "100% 22.2k/22.2k [00:00<00:00, 40.7MB/s]\n",
            "Downloading test.csv to /content\n",
            "  0% 0.00/411k [00:00<?, ?B/s]\n",
            "100% 411k/411k [00:00<00:00, 136MB/s]\n"
          ]
        }
      ]
    },
    {
      "cell_type": "code",
      "source": [
        "train = pd.read_csv('train.csv')\n",
        "test = pd.read_csv('test.csv')\n",
        "submission = pd.read_csv('sample_submission.csv')\n",
        "print(train.shape, test.shape, submission.shape)"
      ],
      "metadata": {
        "colab": {
          "base_uri": "https://localhost:8080/"
        },
        "id": "hSJfJRQ5ezLq",
        "outputId": "e0372eb6-4fd7-4ae1-b352-315fc732e30a"
      },
      "execution_count": 9,
      "outputs": [
        {
          "output_type": "stream",
          "name": "stdout",
          "text": [
            "(7613, 5) (3263, 4) (3263, 2)\n"
          ]
        }
      ]
    },
    {
      "cell_type": "code",
      "source": [
        "train.head()"
      ],
      "metadata": {
        "colab": {
          "base_uri": "https://localhost:8080/",
          "height": 206
        },
        "id": "ZnO9KHtGfJlA",
        "outputId": "9d356306-ed5c-4105-9bc2-84ea4b32b0af"
      },
      "execution_count": 10,
      "outputs": [
        {
          "output_type": "execute_result",
          "data": {
            "text/html": [
              "\n",
              "  <div id=\"df-796b614a-cbf7-4082-b2ad-9d93b9f5df15\">\n",
              "    <div class=\"colab-df-container\">\n",
              "      <div>\n",
              "<style scoped>\n",
              "    .dataframe tbody tr th:only-of-type {\n",
              "        vertical-align: middle;\n",
              "    }\n",
              "\n",
              "    .dataframe tbody tr th {\n",
              "        vertical-align: top;\n",
              "    }\n",
              "\n",
              "    .dataframe thead th {\n",
              "        text-align: right;\n",
              "    }\n",
              "</style>\n",
              "<table border=\"1\" class=\"dataframe\">\n",
              "  <thead>\n",
              "    <tr style=\"text-align: right;\">\n",
              "      <th></th>\n",
              "      <th>id</th>\n",
              "      <th>keyword</th>\n",
              "      <th>location</th>\n",
              "      <th>text</th>\n",
              "      <th>target</th>\n",
              "    </tr>\n",
              "  </thead>\n",
              "  <tbody>\n",
              "    <tr>\n",
              "      <th>0</th>\n",
              "      <td>1</td>\n",
              "      <td>NaN</td>\n",
              "      <td>NaN</td>\n",
              "      <td>Our Deeds are the Reason of this #earthquake M...</td>\n",
              "      <td>1</td>\n",
              "    </tr>\n",
              "    <tr>\n",
              "      <th>1</th>\n",
              "      <td>4</td>\n",
              "      <td>NaN</td>\n",
              "      <td>NaN</td>\n",
              "      <td>Forest fire near La Ronge Sask. Canada</td>\n",
              "      <td>1</td>\n",
              "    </tr>\n",
              "    <tr>\n",
              "      <th>2</th>\n",
              "      <td>5</td>\n",
              "      <td>NaN</td>\n",
              "      <td>NaN</td>\n",
              "      <td>All residents asked to 'shelter in place' are ...</td>\n",
              "      <td>1</td>\n",
              "    </tr>\n",
              "    <tr>\n",
              "      <th>3</th>\n",
              "      <td>6</td>\n",
              "      <td>NaN</td>\n",
              "      <td>NaN</td>\n",
              "      <td>13,000 people receive #wildfires evacuation or...</td>\n",
              "      <td>1</td>\n",
              "    </tr>\n",
              "    <tr>\n",
              "      <th>4</th>\n",
              "      <td>7</td>\n",
              "      <td>NaN</td>\n",
              "      <td>NaN</td>\n",
              "      <td>Just got sent this photo from Ruby #Alaska as ...</td>\n",
              "      <td>1</td>\n",
              "    </tr>\n",
              "  </tbody>\n",
              "</table>\n",
              "</div>\n",
              "      <button class=\"colab-df-convert\" onclick=\"convertToInteractive('df-796b614a-cbf7-4082-b2ad-9d93b9f5df15')\"\n",
              "              title=\"Convert this dataframe to an interactive table.\"\n",
              "              style=\"display:none;\">\n",
              "        \n",
              "  <svg xmlns=\"http://www.w3.org/2000/svg\" height=\"24px\"viewBox=\"0 0 24 24\"\n",
              "       width=\"24px\">\n",
              "    <path d=\"M0 0h24v24H0V0z\" fill=\"none\"/>\n",
              "    <path d=\"M18.56 5.44l.94 2.06.94-2.06 2.06-.94-2.06-.94-.94-2.06-.94 2.06-2.06.94zm-11 1L8.5 8.5l.94-2.06 2.06-.94-2.06-.94L8.5 2.5l-.94 2.06-2.06.94zm10 10l.94 2.06.94-2.06 2.06-.94-2.06-.94-.94-2.06-.94 2.06-2.06.94z\"/><path d=\"M17.41 7.96l-1.37-1.37c-.4-.4-.92-.59-1.43-.59-.52 0-1.04.2-1.43.59L10.3 9.45l-7.72 7.72c-.78.78-.78 2.05 0 2.83L4 21.41c.39.39.9.59 1.41.59.51 0 1.02-.2 1.41-.59l7.78-7.78 2.81-2.81c.8-.78.8-2.07 0-2.86zM5.41 20L4 18.59l7.72-7.72 1.47 1.35L5.41 20z\"/>\n",
              "  </svg>\n",
              "      </button>\n",
              "      \n",
              "  <style>\n",
              "    .colab-df-container {\n",
              "      display:flex;\n",
              "      flex-wrap:wrap;\n",
              "      gap: 12px;\n",
              "    }\n",
              "\n",
              "    .colab-df-convert {\n",
              "      background-color: #E8F0FE;\n",
              "      border: none;\n",
              "      border-radius: 50%;\n",
              "      cursor: pointer;\n",
              "      display: none;\n",
              "      fill: #1967D2;\n",
              "      height: 32px;\n",
              "      padding: 0 0 0 0;\n",
              "      width: 32px;\n",
              "    }\n",
              "\n",
              "    .colab-df-convert:hover {\n",
              "      background-color: #E2EBFA;\n",
              "      box-shadow: 0px 1px 2px rgba(60, 64, 67, 0.3), 0px 1px 3px 1px rgba(60, 64, 67, 0.15);\n",
              "      fill: #174EA6;\n",
              "    }\n",
              "\n",
              "    [theme=dark] .colab-df-convert {\n",
              "      background-color: #3B4455;\n",
              "      fill: #D2E3FC;\n",
              "    }\n",
              "\n",
              "    [theme=dark] .colab-df-convert:hover {\n",
              "      background-color: #434B5C;\n",
              "      box-shadow: 0px 1px 3px 1px rgba(0, 0, 0, 0.15);\n",
              "      filter: drop-shadow(0px 1px 2px rgba(0, 0, 0, 0.3));\n",
              "      fill: #FFFFFF;\n",
              "    }\n",
              "  </style>\n",
              "\n",
              "      <script>\n",
              "        const buttonEl =\n",
              "          document.querySelector('#df-796b614a-cbf7-4082-b2ad-9d93b9f5df15 button.colab-df-convert');\n",
              "        buttonEl.style.display =\n",
              "          google.colab.kernel.accessAllowed ? 'block' : 'none';\n",
              "\n",
              "        async function convertToInteractive(key) {\n",
              "          const element = document.querySelector('#df-796b614a-cbf7-4082-b2ad-9d93b9f5df15');\n",
              "          const dataTable =\n",
              "            await google.colab.kernel.invokeFunction('convertToInteractive',\n",
              "                                                     [key], {});\n",
              "          if (!dataTable) return;\n",
              "\n",
              "          const docLinkHtml = 'Like what you see? Visit the ' +\n",
              "            '<a target=\"_blank\" href=https://colab.research.google.com/notebooks/data_table.ipynb>data table notebook</a>'\n",
              "            + ' to learn more about interactive tables.';\n",
              "          element.innerHTML = '';\n",
              "          dataTable['output_type'] = 'display_data';\n",
              "          await google.colab.output.renderOutput(dataTable, element);\n",
              "          const docLink = document.createElement('div');\n",
              "          docLink.innerHTML = docLinkHtml;\n",
              "          element.appendChild(docLink);\n",
              "        }\n",
              "      </script>\n",
              "    </div>\n",
              "  </div>\n",
              "  "
            ],
            "text/plain": [
              "   id keyword  ...                                               text target\n",
              "0   1     NaN  ...  Our Deeds are the Reason of this #earthquake M...      1\n",
              "1   4     NaN  ...             Forest fire near La Ronge Sask. Canada      1\n",
              "2   5     NaN  ...  All residents asked to 'shelter in place' are ...      1\n",
              "3   6     NaN  ...  13,000 people receive #wildfires evacuation or...      1\n",
              "4   7     NaN  ...  Just got sent this photo from Ruby #Alaska as ...      1\n",
              "\n",
              "[5 rows x 5 columns]"
            ]
          },
          "metadata": {},
          "execution_count": 10
        }
      ]
    },
    {
      "cell_type": "code",
      "source": [
        "word_len=[]\n",
        "for i in range(len(train)):\n",
        "    word_len.append(len(train.text.values[i].split(' ')))    "
      ],
      "metadata": {
        "id": "77m0snQCffHH"
      },
      "execution_count": 11,
      "outputs": []
    },
    {
      "cell_type": "code",
      "source": [
        "import seaborn as sns\n",
        "\n",
        "plt.figure(figsize=(12,6))\n",
        "sns.countplot(word_len)\n",
        "plt.xlabel(\"Word lengths:\")\n",
        "plt.ylabel('Counts:')\n",
        "plt.title('Train Data \\n Max length='+str(max(word_len)))\n",
        "plt.show()"
      ],
      "metadata": {
        "colab": {
          "base_uri": "https://localhost:8080/",
          "height": 474
        },
        "id": "5XIKhrddgYLU",
        "outputId": "80c44ad7-2c25-4344-81cc-b23eb1515c6a"
      },
      "execution_count": 12,
      "outputs": [
        {
          "output_type": "stream",
          "name": "stderr",
          "text": [
            "/usr/local/lib/python3.7/dist-packages/seaborn/_decorators.py:43: FutureWarning: Pass the following variable as a keyword arg: x. From version 0.12, the only valid positional argument will be `data`, and passing other arguments without an explicit keyword will result in an error or misinterpretation.\n",
            "  FutureWarning\n"
          ]
        },
        {
          "output_type": "display_data",
          "data": {
            "image/png": "[encoded data removed]",
            "text/plain": [
              "<Figure size 864x432 with 1 Axes>"
            ]
          },
          "metadata": {
            "needs_background": "light"
          }
        }
      ]
    },
    {
      "cell_type": "code",
      "source": [
        "plt.figure(figsize=(10,8))\n",
        "sns.countplot(train.target)\n",
        "plt.title('Count for Zeros:'+str(train.target.value_counts()[0])+'\\n'+\n",
        "         'Count for Ones:'+str(train.target.value_counts()[1]))\n",
        "plt.show()\n",
        "\n",
        "#1 represents a disaster tweet and 0 is not disaster tweet"
      ],
      "metadata": {
        "colab": {
          "base_uri": "https://localhost:8080/",
          "height": 583
        },
        "id": "5ErMxJKtgcpL",
        "outputId": "3be01414-feb3-470f-e1e9-72b7c0a808fd"
      },
      "execution_count": 13,
      "outputs": [
        {
          "output_type": "stream",
          "name": "stderr",
          "text": [
            "/usr/local/lib/python3.7/dist-packages/seaborn/_decorators.py:43: FutureWarning: Pass the following variable as a keyword arg: x. From version 0.12, the only valid positional argument will be `data`, and passing other arguments without an explicit keyword will result in an error or misinterpretation.\n",
            "  FutureWarning\n"
          ]
        },
        {
          "output_type": "display_data",
          "data": {
            "image/png": "[encoded data removed]",
            "text/plain": [
              "<Figure size 720x576 with 1 Axes>"
            ]
          },
          "metadata": {
            "needs_background": "light"
          }
        }
      ]
    },
    {
      "cell_type": "markdown",
      "source": [
        "Data Preprocessing"
      ],
      "metadata": {
        "id": "tJkjbz0Pikd5"
      }
    },
    {
      "cell_type": "code",
      "source": [
        "traintext = train['text']\n",
        "y = train['target']\n",
        "\n",
        "max_len = 100\n",
        "max_words = 10000"
      ],
      "metadata": {
        "id": "daAuCHCQhMQ8"
      },
      "execution_count": 21,
      "outputs": []
    },
    {
      "cell_type": "code",
      "source": [
        "tokenizer = Tokenizer(num_words=max_words)\n",
        "\n",
        "tokenizer.fit_on_texts(traintext)\n",
        "word_index = tokenizer.word_index\n",
        "len(word_index)"
      ],
      "metadata": {
        "colab": {
          "base_uri": "https://localhost:8080/"
        },
        "id": "3OeTWN8pjHs1",
        "outputId": "6b785bb1-105d-4223-fd8f-0d0bf0fdb83b"
      },
      "execution_count": 22,
      "outputs": [
        {
          "output_type": "execute_result",
          "data": {
            "text/plain": [
              "22700"
            ]
          },
          "metadata": {},
          "execution_count": 22
        }
      ]
    },
    {
      "cell_type": "code",
      "source": [
        "sequences = tokenizer.texts_to_sequences(traintext)\n",
        "X = pad_sequences(sequences, maxlen=max_len)\n",
        "X.shape"
      ],
      "metadata": {
        "colab": {
          "base_uri": "https://localhost:8080/"
        },
        "id": "mabhFLN3j9Hg",
        "outputId": "41d0530f-7a3f-42c8-caa6-ee6047921aa5"
      },
      "execution_count": 27,
      "outputs": [
        {
          "output_type": "execute_result",
          "data": {
            "text/plain": [
              "(7613, 100)"
            ]
          },
          "metadata": {},
          "execution_count": 27
        }
      ]
    },
    {
      "cell_type": "code",
      "source": [
        "test_data = tokenizer.texts_to_sequences(test['text'])\n",
        "test_data = pad_sequences(test_data, maxlen=max_len)\n",
        "test_data.shape"
      ],
      "metadata": {
        "colab": {
          "base_uri": "https://localhost:8080/"
        },
        "id": "FVZ12YbYnzvh",
        "outputId": "001bd1f1-d8fe-418d-c8a2-3b4c532525f7"
      },
      "execution_count": 28,
      "outputs": [
        {
          "output_type": "execute_result",
          "data": {
            "text/plain": [
              "(3263, 100)"
            ]
          },
          "metadata": {},
          "execution_count": 28
        }
      ]
    },
    {
      "cell_type": "code",
      "source": [
        "y = np.array(y).reshape((-1,1))\n",
        "y.shape"
      ],
      "metadata": {
        "colab": {
          "base_uri": "https://localhost:8080/"
        },
        "id": "VkxUl7Mvn__H",
        "outputId": "ef8e6a1a-9006-4c43-e411-60f87c2d3b4a"
      },
      "execution_count": 29,
      "outputs": [
        {
          "output_type": "execute_result",
          "data": {
            "text/plain": [
              "(7613, 1)"
            ]
          },
          "metadata": {},
          "execution_count": 29
        }
      ]
    },
    {
      "cell_type": "code",
      "source": [
        "X_train, X_test, y_train, y_test = train_test_split(X, y, random_state=0, test_size=0.2)"
      ],
      "metadata": {
        "id": "YL7TidT3ot4n"
      },
      "execution_count": 30,
      "outputs": []
    },
    {
      "cell_type": "code",
      "source": [
        "def train_model(model, batch_size=32, epochs=14):\n",
        "    model.compile(optimizer='rmsprop', loss='binary_crossentropy', metrics=['acc'])\n",
        "    history = history = model.fit(X_train, y_train, epochs=epochs, batch_size=batch_size, validation_split=0.15)\n",
        "    print('-' * 100)\n",
        "    print('Test data')\n",
        "    model.evaluate(X_test, y_test)\n",
        "    return history"
      ],
      "metadata": {
        "id": "nnFlbu4Wox1t"
      },
      "execution_count": 42,
      "outputs": []
    },
    {
      "cell_type": "code",
      "source": [
        "def visual_validation_and_accuracy(history):\n",
        "    acc = history.history['acc']\n",
        "    val_acc = history.history['val_acc']\n",
        "    loss = history.history['loss']\n",
        "    val_loss = history.history['val_loss']\n",
        "\n",
        "    epochs_plot = np.arange(1, len(loss) + 1)\n",
        "    plt.clf()\n",
        "\n",
        "    plt.plot(epochs_plot, acc, 'r', label='Training acc')\n",
        "    plt.plot(epochs_plot, val_acc, 'b', label='Validation acc')\n",
        "    plt.plot(epochs_plot, loss, 'r:', label='Training loss')\n",
        "    plt.plot(epochs_plot, val_loss, 'b:', label='Validation loss')\n",
        "    plt.title('Validation and accuracy')\n",
        "    plt.xlabel('Epochs')\n",
        "    plt.legend()\n",
        "    plt.show()"
      ],
      "metadata": {
        "id": "s5wBkd2BpAZs"
      },
      "execution_count": 36,
      "outputs": []
    },
    {
      "cell_type": "markdown",
      "source": [
        "# Deep NN"
      ],
      "metadata": {
        "id": "Le8KsNWFpHuM"
      }
    },
    {
      "cell_type": "code",
      "source": [
        "model = Sequential([\n",
        "    Embedding(max_words, 32, input_length=max_len),\n",
        "    Flatten(),\n",
        "    Dense(16, activation='relu'),\n",
        "    Dropout(0.6),\n",
        "    Dense(8, activation='relu'),\n",
        "    Dropout(0.6),\n",
        "    Dense(1, activation='sigmoid')\n",
        "])\n",
        "model.summary()"
      ],
      "metadata": {
        "colab": {
          "base_uri": "https://localhost:8080/"
        },
        "id": "WH0hSOu3pDMM",
        "outputId": "18a99393-3159-43b7-d982-b218063a3caa"
      },
      "execution_count": 43,
      "outputs": [
        {
          "output_type": "stream",
          "name": "stdout",
          "text": [
            "Model: \"sequential_3\"\n",
            "_________________________________________________________________\n",
            " Layer (type)                Output Shape              Param #   \n",
            "=================================================================\n",
            " embedding_3 (Embedding)     (None, 100, 32)           320000    \n",
            "                                                                 \n",
            " flatten_3 (Flatten)         (None, 3200)              0         \n",
            "                                                                 \n",
            " dense_9 (Dense)             (None, 16)                51216     \n",
            "                                                                 \n",
            " dropout_7 (Dropout)         (None, 16)                0         \n",
            "                                                                 \n",
            " dense_10 (Dense)            (None, 8)                 136       \n",
            "                                                                 \n",
            " dropout_8 (Dropout)         (None, 8)                 0         \n",
            "                                                                 \n",
            " dense_11 (Dense)            (None, 1)                 9         \n",
            "                                                                 \n",
            "=================================================================\n",
            "Total params: 371,361\n",
            "Trainable params: 371,361\n",
            "Non-trainable params: 0\n",
            "_________________________________________________________________\n"
          ]
        }
      ]
    },
    {
      "cell_type": "code",
      "source": [
        "history = train_model(model)"
      ],
      "metadata": {
        "colab": {
          "base_uri": "https://localhost:8080/"
        },
        "id": "_Ld7-_OSpajU",
        "outputId": "ae7d0b13-eec4-4357-b125-8ee86ca84c64"
      },
      "execution_count": 44,
      "outputs": [
        {
          "output_type": "stream",
          "name": "stdout",
          "text": [
            "Epoch 1/14\n",
            "162/162 [==============================] - 1s 5ms/step - loss: 0.6859 - acc: 0.5599 - val_loss: 0.6798 - val_acc: 0.5744\n",
            "Epoch 2/14\n",
            "162/162 [==============================] - 1s 4ms/step - loss: 0.6644 - acc: 0.5639 - val_loss: 0.6536 - val_acc: 0.5744\n",
            "Epoch 3/14\n",
            "162/162 [==============================] - 1s 4ms/step - loss: 0.6309 - acc: 0.6105 - val_loss: 0.6019 - val_acc: 0.7396\n",
            "Epoch 4/14\n",
            "162/162 [==============================] - 1s 4ms/step - loss: 0.5879 - acc: 0.7237 - val_loss: 0.5737 - val_acc: 0.7593\n",
            "Epoch 5/14\n",
            "162/162 [==============================] - 1s 4ms/step - loss: 0.5404 - acc: 0.7751 - val_loss: 0.5632 - val_acc: 0.7790\n",
            "Epoch 6/14\n",
            "162/162 [==============================] - 1s 4ms/step - loss: 0.4861 - acc: 0.8228 - val_loss: 0.5654 - val_acc: 0.7757\n",
            "Epoch 7/14\n",
            "162/162 [==============================] - 1s 4ms/step - loss: 0.4481 - acc: 0.8398 - val_loss: 0.5802 - val_acc: 0.7560\n",
            "Epoch 8/14\n",
            "162/162 [==============================] - 1s 4ms/step - loss: 0.3870 - acc: 0.8690 - val_loss: 0.6345 - val_acc: 0.7648\n",
            "Epoch 9/14\n",
            "162/162 [==============================] - 1s 4ms/step - loss: 0.3509 - acc: 0.8850 - val_loss: 0.6557 - val_acc: 0.7527\n",
            "Epoch 10/14\n",
            "162/162 [==============================] - 1s 4ms/step - loss: 0.3262 - acc: 0.8980 - val_loss: 0.6974 - val_acc: 0.7374\n",
            "Epoch 11/14\n",
            "162/162 [==============================] - 1s 4ms/step - loss: 0.3101 - acc: 0.9020 - val_loss: 0.8002 - val_acc: 0.7473\n",
            "Epoch 12/14\n",
            "162/162 [==============================] - 1s 4ms/step - loss: 0.2830 - acc: 0.9125 - val_loss: 0.8923 - val_acc: 0.7516\n",
            "Epoch 13/14\n",
            "162/162 [==============================] - 1s 4ms/step - loss: 0.2728 - acc: 0.9133 - val_loss: 0.9293 - val_acc: 0.7363\n",
            "Epoch 14/14\n",
            "162/162 [==============================] - 1s 4ms/step - loss: 0.2673 - acc: 0.9102 - val_loss: 0.9460 - val_acc: 0.7396\n",
            "----------------------------------------------------------------------------------------------------\n",
            "Test data\n",
            "48/48 [==============================] - 0s 2ms/step - loss: 0.8424 - acc: 0.7511\n"
          ]
        }
      ]
    },
    {
      "cell_type": "code",
      "source": [
        "visual_validation_and_accuracy(history)"
      ],
      "metadata": {
        "colab": {
          "base_uri": "https://localhost:8080/",
          "height": 295
        },
        "id": "hOutndPVpfaW",
        "outputId": "e5771684-69a4-41a3-bb49-beed3c72adde"
      },
      "execution_count": 45,
      "outputs": [
        {
          "output_type": "display_data",
          "data": {
            "image/png": "[encoded data removed]",
            "text/plain": [
              "<Figure size 432x288 with 1 Axes>"
            ]
          },
          "metadata": {
            "needs_background": "light"
          }
        }
      ]
    },
    {
      "cell_type": "markdown",
      "source": [
        "# RNN"
      ],
      "metadata": {
        "id": "V4FJ1YpEu8uK"
      }
    },
    {
      "cell_type": "code",
      "source": [
        "model = Sequential([\n",
        "    Embedding(max_words, 32, input_length=max_len),\n",
        "    SimpleRNN(32, return_sequences=True),\n",
        "    SimpleRNN(32),\n",
        "    Dense(1, activation='sigmoid')\n",
        "])\n",
        "model.summary()"
      ],
      "metadata": {
        "colab": {
          "base_uri": "https://localhost:8080/"
        },
        "id": "lnTZFuJjsR4M",
        "outputId": "e62c51ab-a556-46b1-d24b-976a02cb62e0"
      },
      "execution_count": 46,
      "outputs": [
        {
          "output_type": "stream",
          "name": "stdout",
          "text": [
            "Model: \"sequential_4\"\n",
            "_________________________________________________________________\n",
            " Layer (type)                Output Shape              Param #   \n",
            "=================================================================\n",
            " embedding_4 (Embedding)     (None, 100, 32)           320000    \n",
            "                                                                 \n",
            " simple_rnn (SimpleRNN)      (None, 100, 32)           2080      \n",
            "                                                                 \n",
            " simple_rnn_1 (SimpleRNN)    (None, 32)                2080      \n",
            "                                                                 \n",
            " dense_12 (Dense)            (None, 1)                 33        \n",
            "                                                                 \n",
            "=================================================================\n",
            "Total params: 324,193\n",
            "Trainable params: 324,193\n",
            "Non-trainable params: 0\n",
            "_________________________________________________________________\n"
          ]
        }
      ]
    },
    {
      "cell_type": "code",
      "source": [
        "history = train_model(model)"
      ],
      "metadata": {
        "colab": {
          "base_uri": "https://localhost:8080/"
        },
        "id": "kRGSdvtLsZBz",
        "outputId": "7c756371-c087-413d-e787-c17707f32b78"
      },
      "execution_count": 47,
      "outputs": [
        {
          "output_type": "stream",
          "name": "stdout",
          "text": [
            "Epoch 1/14\n",
            "162/162 [==============================] - 33s 185ms/step - loss: 0.6444 - acc: 0.6256 - val_loss: 0.6202 - val_acc: 0.6729\n",
            "Epoch 2/14\n",
            "162/162 [==============================] - 29s 180ms/step - loss: 0.4327 - acc: 0.8122 - val_loss: 0.6376 - val_acc: 0.7079\n",
            "Epoch 3/14\n",
            "162/162 [==============================] - 30s 184ms/step - loss: 0.2292 - acc: 0.9154 - val_loss: 0.7864 - val_acc: 0.6871\n",
            "Epoch 4/14\n",
            "162/162 [==============================] - 30s 184ms/step - loss: 0.1423 - acc: 0.9560 - val_loss: 0.8561 - val_acc: 0.6740\n",
            "Epoch 5/14\n",
            "162/162 [==============================] - 31s 190ms/step - loss: 0.1005 - acc: 0.9681 - val_loss: 0.8939 - val_acc: 0.6915\n",
            "Epoch 6/14\n",
            "162/162 [==============================] - 29s 181ms/step - loss: 0.0851 - acc: 0.9768 - val_loss: 0.8622 - val_acc: 0.6871\n",
            "Epoch 7/14\n",
            "162/162 [==============================] - 30s 184ms/step - loss: 0.0705 - acc: 0.9803 - val_loss: 1.0148 - val_acc: 0.6357\n",
            "Epoch 8/14\n",
            "162/162 [==============================] - 29s 181ms/step - loss: 0.0659 - acc: 0.9805 - val_loss: 1.0505 - val_acc: 0.6258\n",
            "Epoch 9/14\n",
            "162/162 [==============================] - 29s 182ms/step - loss: 0.0575 - acc: 0.9830 - val_loss: 1.0764 - val_acc: 0.6193\n",
            "Epoch 10/14\n",
            "162/162 [==============================] - 30s 183ms/step - loss: 0.0542 - acc: 0.9842 - val_loss: 0.9942 - val_acc: 0.6455\n",
            "Epoch 11/14\n",
            "162/162 [==============================] - 29s 182ms/step - loss: 0.0496 - acc: 0.9847 - val_loss: 1.0007 - val_acc: 0.6433\n",
            "Epoch 12/14\n",
            "162/162 [==============================] - 29s 182ms/step - loss: 0.0438 - acc: 0.9867 - val_loss: 1.0233 - val_acc: 0.6324\n",
            "Epoch 13/14\n",
            "162/162 [==============================] - 29s 181ms/step - loss: 0.0456 - acc: 0.9863 - val_loss: 1.0677 - val_acc: 0.6357\n",
            "Epoch 14/14\n",
            "162/162 [==============================] - 29s 182ms/step - loss: 0.0456 - acc: 0.9849 - val_loss: 1.0565 - val_acc: 0.6433\n",
            "----------------------------------------------------------------------------------------------------\n",
            "Test data\n",
            "48/48 [==============================] - 1s 19ms/step - loss: 1.0149 - acc: 0.6474\n"
          ]
        }
      ]
    },
    {
      "cell_type": "code",
      "source": [
        "visual_validation_and_accuracy(history)"
      ],
      "metadata": {
        "colab": {
          "base_uri": "https://localhost:8080/",
          "height": 295
        },
        "id": "5ibRurq1sbYZ",
        "outputId": "ccc51021-9665-4ad5-f066-00d1a239f0cf"
      },
      "execution_count": 48,
      "outputs": [
        {
          "output_type": "display_data",
          "data": {
            "image/png": "[encoded data removed]",
            "text/plain": [
              "<Figure size 432x288 with 1 Axes>"
            ]
          },
          "metadata": {
            "needs_background": "light"
          }
        }
      ]
    },
    {
      "cell_type": "markdown",
      "source": [
        "#LTSM"
      ],
      "metadata": {
        "id": "h8QMenlIvBcE"
      }
    },
    {
      "cell_type": "code",
      "source": [
        "model = Sequential([\n",
        "    Embedding(max_words, 32, input_length=max_len),\n",
        "    LSTM(32, return_sequences=True),\n",
        "    LSTM(32),\n",
        "    Dense(1, activation='sigmoid')\n",
        "])\n",
        "model.summary()"
      ],
      "metadata": {
        "colab": {
          "base_uri": "https://localhost:8080/"
        },
        "id": "tGlM4_U0uFV2",
        "outputId": "6fabbadc-df8d-4e8a-944c-0aa9a4766194"
      },
      "execution_count": 49,
      "outputs": [
        {
          "output_type": "stream",
          "name": "stdout",
          "text": [
            "Model: \"sequential_5\"\n",
            "_________________________________________________________________\n",
            " Layer (type)                Output Shape              Param #   \n",
            "=================================================================\n",
            " embedding_5 (Embedding)     (None, 100, 32)           320000    \n",
            "                                                                 \n",
            " lstm (LSTM)                 (None, 100, 32)           8320      \n",
            "                                                                 \n",
            " lstm_1 (LSTM)               (None, 32)                8320      \n",
            "                                                                 \n",
            " dense_13 (Dense)            (None, 1)                 33        \n",
            "                                                                 \n",
            "=================================================================\n",
            "Total params: 336,673\n",
            "Trainable params: 336,673\n",
            "Non-trainable params: 0\n",
            "_________________________________________________________________\n"
          ]
        }
      ]
    },
    {
      "cell_type": "code",
      "source": [
        "history = train_model(model)"
      ],
      "metadata": {
        "colab": {
          "base_uri": "https://localhost:8080/"
        },
        "id": "z6KycmsFuIRo",
        "outputId": "77d774f9-f70f-4cc0-8715-ca6e7536526a"
      },
      "execution_count": 50,
      "outputs": [
        {
          "output_type": "stream",
          "name": "stdout",
          "text": [
            "Epoch 1/14\n",
            "162/162 [==============================] - 9s 18ms/step - loss: 0.5723 - acc: 0.7023 - val_loss: 0.4790 - val_acc: 0.7867\n",
            "Epoch 2/14\n",
            "162/162 [==============================] - 2s 12ms/step - loss: 0.3916 - acc: 0.8364 - val_loss: 0.4659 - val_acc: 0.7921\n",
            "Epoch 3/14\n",
            "162/162 [==============================] - 2s 12ms/step - loss: 0.3335 - acc: 0.8671 - val_loss: 0.4607 - val_acc: 0.8020\n",
            "Epoch 4/14\n",
            "162/162 [==============================] - 2s 12ms/step - loss: 0.2981 - acc: 0.8837 - val_loss: 0.4715 - val_acc: 0.7856\n",
            "Epoch 5/14\n",
            "162/162 [==============================] - 2s 12ms/step - loss: 0.2712 - acc: 0.8991 - val_loss: 0.5001 - val_acc: 0.8031\n",
            "Epoch 6/14\n",
            "162/162 [==============================] - 2s 12ms/step - loss: 0.2540 - acc: 0.9063 - val_loss: 0.5131 - val_acc: 0.7823\n",
            "Epoch 7/14\n",
            "162/162 [==============================] - 2s 12ms/step - loss: 0.2355 - acc: 0.9134 - val_loss: 0.5373 - val_acc: 0.7856\n",
            "Epoch 8/14\n",
            "162/162 [==============================] - 2s 12ms/step - loss: 0.2193 - acc: 0.9210 - val_loss: 0.5217 - val_acc: 0.7845\n",
            "Epoch 9/14\n",
            "162/162 [==============================] - 2s 12ms/step - loss: 0.2024 - acc: 0.9281 - val_loss: 0.5822 - val_acc: 0.7834\n",
            "Epoch 10/14\n",
            "162/162 [==============================] - 2s 12ms/step - loss: 0.1884 - acc: 0.9349 - val_loss: 0.5744 - val_acc: 0.7834\n",
            "Epoch 11/14\n",
            "162/162 [==============================] - 2s 12ms/step - loss: 0.1724 - acc: 0.9407 - val_loss: 0.6339 - val_acc: 0.7473\n",
            "Epoch 12/14\n",
            "162/162 [==============================] - 2s 12ms/step - loss: 0.1596 - acc: 0.9465 - val_loss: 0.6773 - val_acc: 0.7582\n",
            "Epoch 13/14\n",
            "162/162 [==============================] - 2s 12ms/step - loss: 0.1509 - acc: 0.9480 - val_loss: 0.6846 - val_acc: 0.7615\n",
            "Epoch 14/14\n",
            "162/162 [==============================] - 2s 12ms/step - loss: 0.1399 - acc: 0.9521 - val_loss: 0.6849 - val_acc: 0.7538\n",
            "----------------------------------------------------------------------------------------------------\n",
            "Test data\n",
            "48/48 [==============================] - 0s 5ms/step - loss: 0.6632 - acc: 0.7669\n"
          ]
        }
      ]
    },
    {
      "cell_type": "code",
      "source": [
        "visual_validation_and_accuracy(history)"
      ],
      "metadata": {
        "colab": {
          "base_uri": "https://localhost:8080/",
          "height": 295
        },
        "id": "mzyDpu-8uKs1",
        "outputId": "90cb3b10-f168-49b7-813e-eccce46ccaf0"
      },
      "execution_count": 51,
      "outputs": [
        {
          "output_type": "display_data",
          "data": {
            "image/png": "[encoded data removed]",
            "text/plain": [
              "<Figure size 432x288 with 1 Axes>"
            ]
          },
          "metadata": {
            "needs_background": "light"
          }
        }
      ]
    },
    {
      "cell_type": "markdown",
      "source": [
        "#GRU"
      ],
      "metadata": {
        "id": "Dkfx3wFMvQVl"
      }
    },
    {
      "cell_type": "code",
      "source": [
        "model = Sequential([\n",
        "    Embedding(max_words, 32, input_length=max_len),\n",
        "    GRU(32, return_sequences=True),\n",
        "    GRU(32),\n",
        "    Dense(1, activation='sigmoid')\n",
        "])\n",
        "model.summary()"
      ],
      "metadata": {
        "colab": {
          "base_uri": "https://localhost:8080/"
        },
        "id": "eF6JyMQquWi1",
        "outputId": "c4e19c6a-128a-4182-bc71-7753664ed4e3"
      },
      "execution_count": 52,
      "outputs": [
        {
          "output_type": "stream",
          "name": "stdout",
          "text": [
            "Model: \"sequential_6\"\n",
            "_________________________________________________________________\n",
            " Layer (type)                Output Shape              Param #   \n",
            "=================================================================\n",
            " embedding_6 (Embedding)     (None, 100, 32)           320000    \n",
            "                                                                 \n",
            " gru (GRU)                   (None, 100, 32)           6336      \n",
            "                                                                 \n",
            " gru_1 (GRU)                 (None, 32)                6336      \n",
            "                                                                 \n",
            " dense_14 (Dense)            (None, 1)                 33        \n",
            "                                                                 \n",
            "=================================================================\n",
            "Total params: 332,705\n",
            "Trainable params: 332,705\n",
            "Non-trainable params: 0\n",
            "_________________________________________________________________\n"
          ]
        }
      ]
    },
    {
      "cell_type": "code",
      "source": [
        "history = train_model(model)"
      ],
      "metadata": {
        "colab": {
          "base_uri": "https://localhost:8080/"
        },
        "id": "SvozHCjUwV3o",
        "outputId": "3b18127a-a762-4149-ce9a-dbcff692de77"
      },
      "execution_count": 53,
      "outputs": [
        {
          "output_type": "stream",
          "name": "stdout",
          "text": [
            "Epoch 1/14\n",
            "162/162 [==============================] - 7s 17ms/step - loss: 0.5818 - acc: 0.6868 - val_loss: 0.4860 - val_acc: 0.7845\n",
            "Epoch 2/14\n",
            "162/162 [==============================] - 2s 11ms/step - loss: 0.3835 - acc: 0.8379 - val_loss: 0.4683 - val_acc: 0.7888\n",
            "Epoch 3/14\n",
            "162/162 [==============================] - 2s 12ms/step - loss: 0.3270 - acc: 0.8651 - val_loss: 0.4828 - val_acc: 0.7932\n",
            "Epoch 4/14\n",
            "162/162 [==============================] - 2s 12ms/step - loss: 0.2926 - acc: 0.8845 - val_loss: 0.5025 - val_acc: 0.7867\n",
            "Epoch 5/14\n",
            "162/162 [==============================] - 2s 11ms/step - loss: 0.2654 - acc: 0.8953 - val_loss: 0.5503 - val_acc: 0.7746\n",
            "Epoch 6/14\n",
            "162/162 [==============================] - 2s 11ms/step - loss: 0.2455 - acc: 0.9032 - val_loss: 0.5277 - val_acc: 0.7921\n",
            "Epoch 7/14\n",
            "162/162 [==============================] - 2s 11ms/step - loss: 0.2247 - acc: 0.9181 - val_loss: 0.5603 - val_acc: 0.7582\n",
            "Epoch 8/14\n",
            "162/162 [==============================] - 2s 12ms/step - loss: 0.2058 - acc: 0.9227 - val_loss: 0.5869 - val_acc: 0.7856\n",
            "Epoch 9/14\n",
            "162/162 [==============================] - 2s 12ms/step - loss: 0.1861 - acc: 0.9304 - val_loss: 0.6110 - val_acc: 0.7637\n",
            "Epoch 10/14\n",
            "162/162 [==============================] - 2s 12ms/step - loss: 0.1683 - acc: 0.9376 - val_loss: 0.6308 - val_acc: 0.7856\n",
            "Epoch 11/14\n",
            "162/162 [==============================] - 2s 12ms/step - loss: 0.1511 - acc: 0.9459 - val_loss: 0.6725 - val_acc: 0.7582\n",
            "Epoch 12/14\n",
            "162/162 [==============================] - 2s 12ms/step - loss: 0.1387 - acc: 0.9511 - val_loss: 0.7225 - val_acc: 0.7790\n",
            "Epoch 13/14\n",
            "162/162 [==============================] - 2s 11ms/step - loss: 0.1266 - acc: 0.9581 - val_loss: 0.7017 - val_acc: 0.7681\n",
            "Epoch 14/14\n",
            "162/162 [==============================] - 2s 11ms/step - loss: 0.1164 - acc: 0.9600 - val_loss: 0.7962 - val_acc: 0.7549\n",
            "----------------------------------------------------------------------------------------------------\n",
            "Test data\n",
            "48/48 [==============================] - 0s 5ms/step - loss: 0.7299 - acc: 0.7590\n"
          ]
        }
      ]
    },
    {
      "cell_type": "code",
      "source": [
        "visual_validation_and_accuracy(history)"
      ],
      "metadata": {
        "colab": {
          "base_uri": "https://localhost:8080/",
          "height": 295
        },
        "id": "BTVyL5eFwYV1",
        "outputId": "9cc5cf2c-1d68-40ba-a645-628d94e818fa"
      },
      "execution_count": 54,
      "outputs": [
        {
          "output_type": "display_data",
          "data": {
            "image/png": "[encoded data removed]",
            "text/plain": [
              "<Figure size 432x288 with 1 Axes>"
            ]
          },
          "metadata": {
            "needs_background": "light"
          }
        }
      ]
    },
    {
      "cell_type": "markdown",
      "source": [
        "#Predict best model"
      ],
      "metadata": {
        "id": "0WCM20XIw-iM"
      }
    },
    {
      "cell_type": "code",
      "source": [
        "#predict = model.predict(test_data)\n",
        "#predict.shape"
      ],
      "metadata": {
        "id": "o7KSlul8wkfb"
      },
      "execution_count": 55,
      "outputs": []
    },
    {
      "cell_type": "code",
      "source": [
        "#predict = (predict >= 0.5).astype(int)"
      ],
      "metadata": {
        "id": "j7MHRaIFw7B5"
      },
      "execution_count": null,
      "outputs": []
    },
    {
      "cell_type": "code",
      "source": [
        "#submission.target = predict\n",
        "#submission.head(10)"
      ],
      "metadata": {
        "id": "3XOIPaTqxEzb"
      },
      "execution_count": 56,
      "outputs": []
    },
    {
      "cell_type": "code",
      "source": [
        "#submission.to_csv('submission.csv', index=False)"
      ],
      "metadata": {
        "id": "Iad7ymHxxGzv"
      },
      "execution_count": null,
      "outputs": []
    }
  ]
}